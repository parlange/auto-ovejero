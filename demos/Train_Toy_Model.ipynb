{
 "cells": [
  {
   "cell_type": "code",
   "execution_count": 1,
   "metadata": {},
   "outputs": [
    {
     "name": "stderr",
     "output_type": "stream",
     "text": [
      "2023-09-16 23:05:24.465732: I tensorflow/core/platform/cpu_feature_guard.cc:182] This TensorFlow binary is optimized to use available CPU instructions in performance-critical operations.\n",
      "To enable the following instructions: AVX2 FMA, in other operations, rebuild TensorFlow with the appropriate compiler flags.\n",
      "2023-09-16 23:05:25.140365: W tensorflow/compiler/tf2tensorrt/utils/py_utils.cc:38] TF-TRT Warning: Could not find TensorRT\n",
      "/home/parlange/anaconda3/envs/bnn/lib/python3.11/site-packages/numba/core/decorators.py:262: NumbaDeprecationWarning: numba.generated_jit is deprecated. Please see the documentation at: https://numba.readthedocs.io/en/stable/reference/deprecation.html#deprecation-of-generated-jit for more information and advice on a suitable replacement.\n",
      "  warnings.warn(msg, NumbaDeprecationWarning)\n"
     ]
    }
   ],
   "source": [
    "import os, json, sys, shutil\n",
    "from ovejero import model_trainer"
   ]
  },
  {
   "cell_type": "markdown",
   "metadata": {},
   "source": [
    "# Fitting a Model Using model_trainer\n",
    "\n",
    "__Author:__ Sebastian Wagner-Carena\n",
    "\n",
    "__Last Run:__ 08/04/2020\n",
    "\n",
    "__Goals:__ Learn how to use model_trainer to fit the types of models used by ovejero\n",
    "\n",
    "__Before running this notebook:__ Run the Generate_Config notebook to understand what goes into the configuration files for overjero"
   ]
  },
  {
   "cell_type": "markdown",
   "metadata": {},
   "source": [
    "We'll start by loading up the test configuration file made by Generate_Config and inspecting it."
   ]
  },
  {
   "cell_type": "code",
   "execution_count": 3,
   "metadata": {},
   "outputs": [
    {
     "name": "stdout",
     "output_type": "stream",
     "text": [
      "{'training_params': {'bnn_type': 'gmm', 'dropout_type': 'standard', 'batch_size': 10, 'n_epochs': 10, 'learning_rate': 0.0001, 'decay': 3e-06, 'kernel_regularizer': 1e-05, 'dropout_rate': 0.1, 'dropout_regularizer': 1e-06, 'root_path': '/home/parlange/ovejero/test/test_data/', 'tf_record_path': 'tf_record_test', 'final_params': ['external_shear_g1', 'external_shear_g2', 'lens_mass_center_x', 'lens_mass_center_y', 'lens_mass_e1', 'lens_mass_e2', 'lens_mass_gamma', 'lens_mass_theta_E_log'], 'flip_pairs': [], 'img_dim': 128, 'model_weights': '/home/parlange/ovejero/test/test_data/test_model.h5', 'tensorboard_log_dir': '/home/parlange/ovejero/test/test_data/test.log', 'random_seed': 1138, 'norm_images': True, 'shift_pixels': 2, 'shift_params': [['lens_mass_center_x'], ['lens_mass_center_y']], 'pixel_scale': 0.051, 'baobab_config_path': '/home/parlange/ovejero/test/test_data/test_baobab_cfg.py'}, 'validation_params': {'root_path': '/home/parlange/ovejero/test/test_data/', 'tf_record_path': 'tf_record_test_val'}, 'dataset_params': {'lens_params_path': 'metadata.csv', 'new_param_path': 'new_metadata.csv', 'normalization_constants_path': 'norms.csv', 'lens_params': ['external_shear_gamma_ext', 'external_shear_psi_ext', 'lens_mass_center_x', 'lens_mass_center_y', 'lens_mass_e1', 'lens_mass_e2', 'lens_mass_gamma', 'lens_mass_theta_E'], 'lens_params_log': ['lens_mass_theta_E'], 'gampsi': {'gampsi_parameter_prefixes': ['external_shear'], 'gampsi_params_rat': ['external_shear_gamma_ext'], 'gampsi_params_ang': ['external_shear_psi_ext']}}, 'inference_params': {'final_params_print_names': ['$\\\\gamma_1$', '$\\\\gamma_2$', '$x_\\\\mathrm{lens}$', '$y_\\\\mathrm{lens}$', '$e_1$', '$e_2$', '$\\\\gamma_\\\\mathrm{lens}$', '$\\\\log(\\\\theta_E)$']}, 'forward_mod_params': {'lens_model_list': ['PEMD', 'SHEAR_GAMMA_PSI'], 'source_model_list': ['SERSIC_ELLIPSE']}}\n"
     ]
    }
   ],
   "source": [
    "json_path = '/home/parlange/ovejero/test/test_data/' + 'test.json'\n",
    "with open(json_path,'r') as json_f:\n",
    "    cfg = json.load(json_f)\n",
    "print(cfg)"
   ]
  },
  {
   "cell_type": "markdown",
   "metadata": {},
   "source": [
    "A lot of good information there! This is a good config file to start with. Let's go ahead and change a few paths and use it for our toy model."
   ]
  },
  {
   "cell_type": "code",
   "execution_count": 10,
   "metadata": {},
   "outputs": [
    {
     "name": "stdout",
     "output_type": "stream",
     "text": [
      "old path:\n",
      "/home/parlange/ovejero/test/test_data/test_model.h5\n",
      "new path:\n",
      "/home/parlange/ovejero/test/test_data/test_model.h5\n"
     ]
    }
   ],
   "source": [
    "# Change the model weights to point to the demo directory! Same for log file.\n",
    "print('old path:')\n",
    "print(cfg['training_params']['model_weights'])\n",
    "\n",
    "cfg['training_params']['model_weights'] = '/home/parlange/ovejero/test/test_data/test_model.h5'\n",
    "cfg['training_params']['tensorboard_log_dir'] = '/home/parlange/ovejero/test/test_data/test_logs'\n",
    "cfg['training_params']['baobab_config_path'] = '/home/parlange/ovejero/test/test_data/test_baobab_cfg.py'\n",
    "cfg['training_params']['root_path'] = '/home/parlange/ovejero/test/test_data/'\n",
    "cfg['validation_params']['root_path'] = '/home/parlange/ovejero/test/test_data/'\n",
    "print('new path:')\n",
    "print(cfg['training_params']['model_weights'])\n",
    "\n",
    "# Don't want shifts for this easier version of the problem\n",
    "cfg['training_params']['shift_pixels'] = 0\n",
    "\n",
    "# Also let's start with the easy diagonal case\n",
    "cfg['training_params']['bnn_type'] = 'diag'\n",
    "\n",
    "# Now let's go ahead and save this as our new configuration file\n",
    "diag_json_path = '/home/parlange/ovejero/test/test_data/diag.json'\n",
    "with open(diag_json_path,'w') as json_f:\n",
    "    json.dump(cfg,json_f,indent=4)"
   ]
  },
  {
   "cell_type": "markdown",
   "metadata": {},
   "source": [
    "All we have to do is call the main function of model_trainer with the path to our config file! You should see the loss go down as the model learns to overfit to the lenses in the very small training set. Because the random seed is set by the configuration file the final loss should be 1.9520"
   ]
  },
  {
   "cell_type": "code",
   "execution_count": 11,
   "metadata": {},
   "outputs": [
    {
     "name": "stderr",
     "output_type": "stream",
     "text": [
      "WARNING:absl:`lr` is deprecated in Keras optimizer, please use `learning_rate` or use the legacy optimizer, e.g.,tf.keras.optimizers.legacy.Adam.\n"
     ]
    },
    {
     "name": "stdout",
     "output_type": "stream",
     "text": [
      "Checking for training data.\n",
      "TFRecord found at /home/parlange/ovejero/test/test_data/tf_record_test\n",
      "Checking for validation data.\n",
      "TFRecord found at /home/parlange/ovejero/test/test_data/tf_record_test_val\n",
      "Initializing the model\n",
      "Is model built: True\n",
      "Loaded weights /home/parlange/ovejero/test/test_data/test_model.h5\n",
      "Epoch 1/10\n",
      "2/2 [==============================] - ETA: 0s - loss: 4.8372 - diagonal_covariance_loss: 4.7316 - mse_loss: 0.9990"
     ]
    },
    {
     "name": "stderr",
     "output_type": "stream",
     "text": [
      "/home/parlange/anaconda3/envs/bnn/lib/python3.11/site-packages/keras/src/engine/training.py:3000: UserWarning: You are saving your model as an HDF5 file via `model.save()`. This file format is considered legacy. We recommend using instead the native Keras format, e.g. `model.save('my_model.keras')`.\n",
      "  saving_api.save_model(\n"
     ]
    },
    {
     "name": "stdout",
     "output_type": "stream",
     "text": [
      "2/2 [==============================] - 5s 3s/step - loss: 4.8372 - diagonal_covariance_loss: 4.7316 - mse_loss: 0.9990 - val_loss: 4.7427 - val_diagonal_covariance_loss: 4.6381 - val_mse_loss: 1.1559\n",
      "Epoch 2/10\n",
      "2/2 [==============================] - 3s 2s/step - loss: 4.7325 - diagonal_covariance_loss: 4.6283 - mse_loss: 1.1665 - val_loss: 4.0333 - val_diagonal_covariance_loss: 3.9304 - val_mse_loss: 0.9889\n",
      "Epoch 3/10\n",
      "2/2 [==============================] - 3s 2s/step - loss: 3.7269 - diagonal_covariance_loss: 3.6244 - mse_loss: 0.9158 - val_loss: 3.6855 - val_diagonal_covariance_loss: 3.5844 - val_mse_loss: 0.9311\n",
      "Epoch 4/10\n",
      "2/2 [==============================] - 3s 2s/step - loss: 3.6939 - diagonal_covariance_loss: 3.5934 - mse_loss: 0.8874 - val_loss: 3.6253 - val_diagonal_covariance_loss: 3.5262 - val_mse_loss: 0.9280\n",
      "Epoch 5/10\n",
      "2/2 [==============================] - 3s 2s/step - loss: 3.5517 - diagonal_covariance_loss: 3.4532 - mse_loss: 0.9441 - val_loss: 2.7749 - val_diagonal_covariance_loss: 2.6781 - val_mse_loss: 0.7419\n",
      "Epoch 6/10\n",
      "2/2 [==============================] - 2s 911ms/step - loss: 3.8165 - diagonal_covariance_loss: 3.7202 - mse_loss: 0.8775 - val_loss: 3.0247 - val_diagonal_covariance_loss: 2.9302 - val_mse_loss: 0.7238\n",
      "Epoch 7/10\n",
      "2/2 [==============================] - 2s 900ms/step - loss: 3.0252 - diagonal_covariance_loss: 2.9312 - mse_loss: 0.7772 - val_loss: 3.1458 - val_diagonal_covariance_loss: 3.0536 - val_mse_loss: 0.7973\n",
      "Epoch 8/10\n",
      "2/2 [==============================] - 2s 902ms/step - loss: 3.4877 - diagonal_covariance_loss: 3.3962 - mse_loss: 0.8770 - val_loss: 3.2125 - val_diagonal_covariance_loss: 3.1227 - val_mse_loss: 0.8352\n",
      "Epoch 9/10\n",
      "2/2 [==============================] - 2s 1s/step - loss: 3.0492 - diagonal_covariance_loss: 2.9601 - mse_loss: 0.7926 - val_loss: 2.9551 - val_diagonal_covariance_loss: 2.8678 - val_mse_loss: 0.7965\n",
      "Epoch 10/10\n",
      "2/2 [==============================] - 3s 2s/step - loss: 2.6363 - diagonal_covariance_loss: 2.5496 - mse_loss: 0.7501 - val_loss: 2.1643 - val_diagonal_covariance_loss: 2.0794 - val_mse_loss: 0.6921\n"
     ]
    }
   ],
   "source": [
    "# This is equivalent to 'python -m model_trainer diag_json_path' in the terminal where diag_json_path is the path.\n",
    "sys.argv = ['model_trainer',diag_json_path]\n",
    "model_trainer.main()"
   ]
  },
  {
   "cell_type": "markdown",
   "metadata": {},
   "source": [
    "At the end of each epoch we get the loss (which includes the concrete dropout regularization penalty) and the diagonal/full/gmm loss term (essentially the measure of how well our pdf is doing at capturing the data) on both the training and validation sets. "
   ]
  },
  {
   "cell_type": "code",
   "execution_count": null,
   "metadata": {},
   "outputs": [],
   "source": [
    "# Clean up the files that were created by this notebook.\n",
    "test_data_path = os.getcwd()[:-5]+'test/test_data/'\n",
    "\n",
    "os.remove(test_data_path+'new_metadata.csv')\n",
    "os.remove(test_data_path+'norms.csv')\n",
    "os.remove(test_data_path+'tf_record_test')\n",
    "os.remove(test_data_path+'tf_record_test_val')\n",
    "os.remove('test_model.h5')\n",
    "shutil.rmtree('test_logs')\n",
    "os.remove('diag.json')"
   ]
  },
  {
   "cell_type": "markdown",
   "metadata": {},
   "source": [
    "If we want to fit a different type of model, all we have to do is change the config specification for the bnn type or dropout rate."
   ]
  }
 ],
 "metadata": {
  "kernelspec": {
   "display_name": "Python 3 (ipykernel)",
   "language": "python",
   "name": "python3"
  },
  "language_info": {
   "codemirror_mode": {
    "name": "ipython",
    "version": 3
   },
   "file_extension": ".py",
   "mimetype": "text/x-python",
   "name": "python",
   "nbconvert_exporter": "python",
   "pygments_lexer": "ipython3",
   "version": "3.11.5"
  }
 },
 "nbformat": 4,
 "nbformat_minor": 4
}
