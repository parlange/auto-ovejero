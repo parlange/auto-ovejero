{
 "cells": [
  {
   "cell_type": "code",
   "execution_count": 1,
   "metadata": {},
   "outputs": [
    {
     "name": "stderr",
     "output_type": "stream",
     "text": [
      "2023-09-17 21:58:37.759082: I tensorflow/core/platform/cpu_feature_guard.cc:182] This TensorFlow binary is optimized to use available CPU instructions in performance-critical operations.\n",
      "To enable the following instructions: AVX2 FMA, in other operations, rebuild TensorFlow with the appropriate compiler flags.\n",
      "2023-09-17 21:58:38.438510: W tensorflow/compiler/tf2tensorrt/utils/py_utils.cc:38] TF-TRT Warning: Could not find TensorRT\n",
      "/home/parlange/anaconda3/envs/bnn/lib/python3.11/site-packages/numba/core/decorators.py:262: NumbaDeprecationWarning: numba.generated_jit is deprecated. Please see the documentation at: https://numba.readthedocs.io/en/stable/reference/deprecation.html#deprecation-of-generated-jit for more information and advice on a suitable replacement.\n",
      "  warnings.warn(msg, NumbaDeprecationWarning)\n"
     ]
    }
   ],
   "source": [
    "import os, json, sys, shutil\n",
    "from ovejero import model_trainer"
   ]
  },
  {
   "cell_type": "markdown",
   "metadata": {},
   "source": [
    "# Fitting a Model Using model_trainer\n",
    "\n",
    "__Author:__ Sebastian Wagner-Carena\n",
    "\n",
    "__Last Run:__ 08/04/2020\n",
    "\n",
    "__Goals:__ Learn how to use model_trainer to fit the types of models used by ovejero\n",
    "\n",
    "__Before running this notebook:__ Run the Generate_Config notebook to understand what goes into the configuration files for overjero"
   ]
  },
  {
   "cell_type": "markdown",
   "metadata": {},
   "source": [
    "We'll start by loading up the test configuration file made by Generate_Config and inspecting it."
   ]
  },
  {
   "cell_type": "code",
   "execution_count": 2,
   "metadata": {},
   "outputs": [
    {
     "name": "stdout",
     "output_type": "stream",
     "text": [
      "{'training_params': {'bnn_type': 'gmm', 'dropout_type': 'standard', 'batch_size': 10, 'n_epochs': 100, 'learning_rate': 0.0001, 'decay': 3e-06, 'kernel_regularizer': 1e-05, 'dropout_rate': 0.1, 'dropout_regularizer': 1e-06, 'root_path': '/home/parlange/ovejero/test/test_data/', 'tf_record_path': 'tf_record_test', 'final_params': ['external_shear_g1', 'external_shear_g2', 'lens_mass_center_x', 'lens_mass_center_y', 'lens_mass_e1', 'lens_mass_e2', 'lens_mass_gamma', 'lens_mass_theta_E_log'], 'flip_pairs': [], 'img_dim': 128, 'model_weights': '/home/parlange/ovejero/test/test_data/test_model.h5', 'tensorboard_log_dir': '/home/parlange/ovejero/test/test_data/test.log', 'random_seed': 1138, 'norm_images': True, 'shift_pixels': 2, 'shift_params': [['lens_mass_center_x'], ['lens_mass_center_y']], 'pixel_scale': 0.051, 'baobab_config_path': '/home/parlange/ovejero/test/test_data/test_baobab_cfg.py'}, 'validation_params': {'root_path': '/home/parlange/ovejero/test/test_data/', 'tf_record_path': 'tf_record_test_val'}, 'dataset_params': {'lens_params_path': 'metadata.csv', 'new_param_path': 'new_metadata.csv', 'normalization_constants_path': 'norms.csv', 'lens_params': ['external_shear_gamma_ext', 'external_shear_psi_ext', 'lens_mass_center_x', 'lens_mass_center_y', 'lens_mass_e1', 'lens_mass_e2', 'lens_mass_gamma', 'lens_mass_theta_E'], 'lens_params_log': ['lens_mass_theta_E'], 'gampsi': {'gampsi_parameter_prefixes': ['external_shear'], 'gampsi_params_rat': ['external_shear_gamma_ext'], 'gampsi_params_ang': ['external_shear_psi_ext']}}, 'inference_params': {'final_params_print_names': ['$\\\\gamma_1$', '$\\\\gamma_2$', '$x_\\\\mathrm{lens}$', '$y_\\\\mathrm{lens}$', '$e_1$', '$e_2$', '$\\\\gamma_\\\\mathrm{lens}$', '$\\\\log(\\\\theta_E)$']}, 'forward_mod_params': {'lens_model_list': ['PEMD', 'SHEAR_GAMMA_PSI'], 'source_model_list': ['SERSIC_ELLIPSE']}}\n"
     ]
    }
   ],
   "source": [
    "json_path = '/home/parlange/ovejero/test/test_data/' + 'test.json'\n",
    "with open(json_path,'r') as json_f:\n",
    "    cfg = json.load(json_f)\n",
    "print(cfg)"
   ]
  },
  {
   "cell_type": "markdown",
   "metadata": {},
   "source": [
    "A lot of good information there! This is a good config file to start with. Let's go ahead and change a few paths and use it for our toy model."
   ]
  },
  {
   "cell_type": "code",
   "execution_count": 3,
   "metadata": {},
   "outputs": [
    {
     "name": "stdout",
     "output_type": "stream",
     "text": [
      "old path:\n",
      "/home/parlange/ovejero/test/test_data/test_model.h5\n",
      "new path:\n",
      "/home/parlange/ovejero/test/test_data/test_model.h5\n"
     ]
    }
   ],
   "source": [
    "# Change the model weights to point to the demo directory! Same for log file.\n",
    "print('old path:')\n",
    "print(cfg['training_params']['model_weights'])\n",
    "\n",
    "cfg['training_params']['model_weights'] = '/home/parlange/ovejero/test/test_data/test_model.h5'\n",
    "cfg['training_params']['tensorboard_log_dir'] = '/home/parlange/ovejero/test/test_data/test_logs'\n",
    "cfg['training_params']['baobab_config_path'] = '/home/parlange/ovejero/test/test_data/test_baobab_cfg.py'\n",
    "cfg['training_params']['root_path'] = '/home/parlange/ovejero/test/test_data/'\n",
    "cfg['validation_params']['root_path'] = '/home/parlange/ovejero/test/test_data/'\n",
    "print('new path:')\n",
    "print(cfg['training_params']['model_weights'])\n",
    "\n",
    "# Don't want shifts for this easier version of the problem\n",
    "cfg['training_params']['shift_pixels'] = 0\n",
    "\n",
    "# Also let's start with the easy diagonal case\n",
    "cfg['training_params']['bnn_type'] = 'diag'\n",
    "\n",
    "# Now let's go ahead and save this as our new configuration file\n",
    "diag_json_path = '/home/parlange/ovejero/test/test_data/diag.json'\n",
    "with open(diag_json_path,'w') as json_f:\n",
    "    json.dump(cfg,json_f,indent=4)"
   ]
  },
  {
   "cell_type": "markdown",
   "metadata": {},
   "source": [
    "All we have to do is call the main function of model_trainer with the path to our config file! You should see the loss go down as the model learns to overfit to the lenses in the very small training set. Because the random seed is set by the configuration file the final loss should be 1.9520"
   ]
  },
  {
   "cell_type": "code",
   "execution_count": 4,
   "metadata": {},
   "outputs": [
    {
     "name": "stdout",
     "output_type": "stream",
     "text": [
      "Checking for training data.\n",
      "Generating new TFRecord at /home/parlange/ovejero/test/test_data/tf_record_test\n"
     ]
    },
    {
     "name": "stderr",
     "output_type": "stream",
     "text": [
      "100%|██████████████████████████████████████████████████████████████| 20/20 [00:00<00:00, 1202.06it/s]\n"
     ]
    },
    {
     "name": "stdout",
     "output_type": "stream",
     "text": [
      "Checking for validation data.\n",
      "Generating new TFRecord at /home/parlange/ovejero/test/test_data/tf_record_test_val\n"
     ]
    },
    {
     "name": "stderr",
     "output_type": "stream",
     "text": [
      "100%|██████████████████████████████████████████████████████████████| 20/20 [00:00<00:00, 1562.12it/s]\n",
      "2023-09-17 21:58:48.069447: I tensorflow/compiler/xla/stream_executor/cuda/cuda_gpu_executor.cc:995] successful NUMA node read from SysFS had negative value (-1), but there must be at least one NUMA node, so returning NUMA node zero. See more at https://github.com/torvalds/linux/blob/v6.0/Documentation/ABI/testing/sysfs-bus-pci#L344-L355\n",
      "2023-09-17 21:58:48.106695: W tensorflow/core/common_runtime/gpu/gpu_device.cc:1960] Cannot dlopen some GPU libraries. Please make sure the missing libraries mentioned above are installed properly if you would like to use GPU. Follow the guide at https://www.tensorflow.org/install/gpu for how to download and setup the required libraries for your platform.\n",
      "Skipping registering GPU devices...\n",
      "WARNING:absl:`lr` is deprecated in Keras optimizer, please use `learning_rate` or use the legacy optimizer, e.g.,tf.keras.optimizers.legacy.Adam.\n"
     ]
    },
    {
     "name": "stdout",
     "output_type": "stream",
     "text": [
      "Initializing the model\n",
      "Is model built: True\n",
      "No weights found. Saving new weights to /home/parlange/ovejero/test/test_data/test_model.h5\n",
      "Epoch 1/100\n",
      "2/2 [==============================] - ETA: 0s - loss: 5188055728128.0000 - diagonal_covariance_loss: 5188055728128.0000 - mse_loss: 130.3821"
     ]
    },
    {
     "name": "stderr",
     "output_type": "stream",
     "text": [
      "/home/parlange/anaconda3/envs/bnn/lib/python3.11/site-packages/keras/src/engine/training.py:3000: UserWarning: You are saving your model as an HDF5 file via `model.save()`. This file format is considered legacy. We recommend using instead the native Keras format, e.g. `model.save('my_model.keras')`.\n",
      "  saving_api.save_model(\n"
     ]
    },
    {
     "name": "stdout",
     "output_type": "stream",
     "text": [
      "2/2 [==============================] - 4s 2s/step - loss: 5188055728128.0000 - diagonal_covariance_loss: 5188055728128.0000 - mse_loss: 130.3821 - val_loss: 6.9961 - val_diagonal_covariance_loss: 6.8902 - val_mse_loss: 1.4049\n",
      "Epoch 2/100\n",
      "2/2 [==============================] - 3s 2s/step - loss: 6.6202 - diagonal_covariance_loss: 6.5139 - mse_loss: 1.4827 - val_loss: 4.5419 - val_diagonal_covariance_loss: 4.4347 - val_mse_loss: 1.0089\n",
      "Epoch 3/100\n",
      "2/2 [==============================] - 3s 2s/step - loss: 4.3452 - diagonal_covariance_loss: 4.2376 - mse_loss: 0.9514 - val_loss: 4.3838 - val_diagonal_covariance_loss: 4.2752 - val_mse_loss: 0.9987\n",
      "Epoch 4/100\n",
      "2/2 [==============================] - 3s 2s/step - loss: 4.0939 - diagonal_covariance_loss: 3.9851 - mse_loss: 0.8925 - val_loss: 4.0760 - val_diagonal_covariance_loss: 3.9662 - val_mse_loss: 0.9931\n",
      "Epoch 5/100\n",
      "2/2 [==============================] - 3s 2s/step - loss: 4.3829 - diagonal_covariance_loss: 4.2728 - mse_loss: 1.0803 - val_loss: 4.0238 - val_diagonal_covariance_loss: 3.9129 - val_mse_loss: 0.9882\n",
      "Epoch 6/100\n",
      "2/2 [==============================] - 3s 2s/step - loss: 3.8546 - diagonal_covariance_loss: 3.7435 - mse_loss: 0.9315 - val_loss: 3.9679 - val_diagonal_covariance_loss: 3.8562 - val_mse_loss: 0.9818\n",
      "Epoch 7/100\n",
      "2/2 [==============================] - 3s 2s/step - loss: 4.2459 - diagonal_covariance_loss: 4.1340 - mse_loss: 1.0316 - val_loss: 3.9170 - val_diagonal_covariance_loss: 3.8047 - val_mse_loss: 0.9791\n",
      "Epoch 8/100\n",
      "2/2 [==============================] - 3s 2s/step - loss: 3.5748 - diagonal_covariance_loss: 3.4623 - mse_loss: 0.8880 - val_loss: 3.7257 - val_diagonal_covariance_loss: 3.6128 - val_mse_loss: 0.9660\n",
      "Epoch 9/100\n",
      "2/2 [==============================] - 3s 2s/step - loss: 4.1019 - diagonal_covariance_loss: 3.9889 - mse_loss: 0.9879 - val_loss: 3.6622 - val_diagonal_covariance_loss: 3.5490 - val_mse_loss: 0.9431\n",
      "Epoch 10/100\n",
      "2/2 [==============================] - 2s 907ms/step - loss: 4.3973 - diagonal_covariance_loss: 4.2841 - mse_loss: 1.1862 - val_loss: 3.7048 - val_diagonal_covariance_loss: 3.5915 - val_mse_loss: 0.9347\n",
      "Epoch 11/100\n",
      "2/2 [==============================] - 2s 904ms/step - loss: 3.5862 - diagonal_covariance_loss: 3.4728 - mse_loss: 0.9172 - val_loss: 3.8337 - val_diagonal_covariance_loss: 3.7203 - val_mse_loss: 0.9489\n",
      "Epoch 12/100\n",
      "2/2 [==============================] - 3s 2s/step - loss: 4.2151 - diagonal_covariance_loss: 4.1017 - mse_loss: 0.9500 - val_loss: 3.4571 - val_diagonal_covariance_loss: 3.3438 - val_mse_loss: 0.9094\n",
      "Epoch 13/100\n",
      "2/2 [==============================] - 2s 914ms/step - loss: 2.9920 - diagonal_covariance_loss: 2.8787 - mse_loss: 0.7497 - val_loss: 3.4857 - val_diagonal_covariance_loss: 3.3724 - val_mse_loss: 0.9179\n",
      "Epoch 14/100\n",
      "2/2 [==============================] - 3s 2s/step - loss: 3.1383 - diagonal_covariance_loss: 3.0251 - mse_loss: 0.8264 - val_loss: 3.1553 - val_diagonal_covariance_loss: 3.0422 - val_mse_loss: 0.8617\n",
      "Epoch 15/100\n",
      "2/2 [==============================] - 3s 2s/step - loss: 4.0709 - diagonal_covariance_loss: 3.9578 - mse_loss: 1.1522 - val_loss: 3.1340 - val_diagonal_covariance_loss: 3.0211 - val_mse_loss: 0.8316\n",
      "Epoch 16/100\n",
      "2/2 [==============================] - 3s 2s/step - loss: 3.1130 - diagonal_covariance_loss: 3.0001 - mse_loss: 0.7981 - val_loss: 2.8333 - val_diagonal_covariance_loss: 2.7207 - val_mse_loss: 0.8525\n",
      "Epoch 17/100\n",
      "2/2 [==============================] - 3s 2s/step - loss: 2.6602 - diagonal_covariance_loss: 2.5476 - mse_loss: 0.8041 - val_loss: 2.4431 - val_diagonal_covariance_loss: 2.3306 - val_mse_loss: 0.8227\n",
      "Epoch 18/100\n",
      "2/2 [==============================] - 3s 2s/step - loss: 2.1973 - diagonal_covariance_loss: 2.0849 - mse_loss: 0.7700 - val_loss: 2.1856 - val_diagonal_covariance_loss: 2.0734 - val_mse_loss: 0.7795\n",
      "Epoch 19/100\n",
      "2/2 [==============================] - 3s 2s/step - loss: 2.2722 - diagonal_covariance_loss: 2.1600 - mse_loss: 0.8018 - val_loss: 1.8092 - val_diagonal_covariance_loss: 1.6972 - val_mse_loss: 0.7080\n",
      "Epoch 20/100\n",
      "2/2 [==============================] - 2s 935ms/step - loss: 2.7007 - diagonal_covariance_loss: 2.5888 - mse_loss: 0.6361 - val_loss: 2.2636 - val_diagonal_covariance_loss: 2.1519 - val_mse_loss: 0.7683\n",
      "Epoch 21/100\n",
      "2/2 [==============================] - 2s 972ms/step - loss: 2.7310 - diagonal_covariance_loss: 2.6194 - mse_loss: 0.8759 - val_loss: 2.8207 - val_diagonal_covariance_loss: 2.7093 - val_mse_loss: 0.7985\n",
      "Epoch 22/100\n",
      "2/2 [==============================] - 2s 908ms/step - loss: 3.1143 - diagonal_covariance_loss: 3.0030 - mse_loss: 0.8599 - val_loss: 2.9210 - val_diagonal_covariance_loss: 2.8099 - val_mse_loss: 0.8382\n",
      "Epoch 23/100\n",
      "2/2 [==============================] - 2s 897ms/step - loss: 2.9048 - diagonal_covariance_loss: 2.7937 - mse_loss: 0.8849 - val_loss: 2.6842 - val_diagonal_covariance_loss: 2.5733 - val_mse_loss: 0.7847\n",
      "Epoch 24/100\n",
      "2/2 [==============================] - 2s 906ms/step - loss: 2.5640 - diagonal_covariance_loss: 2.4532 - mse_loss: 0.7227 - val_loss: 2.2167 - val_diagonal_covariance_loss: 2.1061 - val_mse_loss: 0.7293\n",
      "Epoch 25/100\n",
      "2/2 [==============================] - 2s 908ms/step - loss: 1.6759 - diagonal_covariance_loss: 1.5653 - mse_loss: 0.6671 - val_loss: 1.8780 - val_diagonal_covariance_loss: 1.7675 - val_mse_loss: 0.6862\n",
      "Epoch 26/100\n",
      "2/2 [==============================] - 3s 2s/step - loss: 1.7937 - diagonal_covariance_loss: 1.6832 - mse_loss: 0.6683 - val_loss: 1.6085 - val_diagonal_covariance_loss: 1.4982 - val_mse_loss: 0.6595\n",
      "Epoch 27/100\n",
      "2/2 [==============================] - 2s 907ms/step - loss: 2.0763 - diagonal_covariance_loss: 1.9661 - mse_loss: 0.6966 - val_loss: 1.6782 - val_diagonal_covariance_loss: 1.5681 - val_mse_loss: 0.6510\n",
      "Epoch 28/100\n",
      "2/2 [==============================] - 2s 902ms/step - loss: 1.6689 - diagonal_covariance_loss: 1.5589 - mse_loss: 0.6188 - val_loss: 1.8261 - val_diagonal_covariance_loss: 1.7162 - val_mse_loss: 0.6556\n",
      "Epoch 29/100\n",
      "2/2 [==============================] - 2s 913ms/step - loss: 2.6124 - diagonal_covariance_loss: 2.5026 - mse_loss: 0.7556 - val_loss: 2.2660 - val_diagonal_covariance_loss: 2.1563 - val_mse_loss: 0.7507\n",
      "Epoch 30/100\n",
      "2/2 [==============================] - 2s 921ms/step - loss: 2.4300 - diagonal_covariance_loss: 2.3203 - mse_loss: 0.7812 - val_loss: 2.5371 - val_diagonal_covariance_loss: 2.4275 - val_mse_loss: 0.7839\n",
      "Epoch 31/100\n",
      "2/2 [==============================] - 2s 923ms/step - loss: 2.0729 - diagonal_covariance_loss: 1.9634 - mse_loss: 0.6662 - val_loss: 2.2861 - val_diagonal_covariance_loss: 2.1767 - val_mse_loss: 0.7459\n",
      "Epoch 32/100\n",
      "2/2 [==============================] - 2s 924ms/step - loss: 2.5966 - diagonal_covariance_loss: 2.4872 - mse_loss: 0.8031 - val_loss: 1.9019 - val_diagonal_covariance_loss: 1.7927 - val_mse_loss: 0.6633\n",
      "Epoch 33/100\n",
      "2/2 [==============================] - 3s 2s/step - loss: 1.9084 - diagonal_covariance_loss: 1.7992 - mse_loss: 0.6740 - val_loss: 1.5280 - val_diagonal_covariance_loss: 1.4189 - val_mse_loss: 0.6025\n",
      "Epoch 34/100\n",
      "2/2 [==============================] - 3s 2s/step - loss: 1.3982 - diagonal_covariance_loss: 1.2891 - mse_loss: 0.5967 - val_loss: 1.0320 - val_diagonal_covariance_loss: 0.9230 - val_mse_loss: 0.5863\n",
      "Epoch 35/100\n",
      "2/2 [==============================] - 2s 897ms/step - loss: 1.0734 - diagonal_covariance_loss: 0.9644 - mse_loss: 0.5664 - val_loss: 1.1693 - val_diagonal_covariance_loss: 1.0605 - val_mse_loss: 0.6022\n",
      "Epoch 36/100\n",
      "2/2 [==============================] - 2s 911ms/step - loss: 1.9787 - diagonal_covariance_loss: 1.8698 - mse_loss: 0.7014 - val_loss: 1.0560 - val_diagonal_covariance_loss: 0.9472 - val_mse_loss: 0.5612\n",
      "Epoch 37/100\n",
      "2/2 [==============================] - 2s 916ms/step - loss: 0.4299 - diagonal_covariance_loss: 0.3212 - mse_loss: 0.4527 - val_loss: 1.1389 - val_diagonal_covariance_loss: 1.0302 - val_mse_loss: 0.6068\n",
      "Epoch 38/100\n",
      "2/2 [==============================] - 3s 2s/step - loss: 1.2269 - diagonal_covariance_loss: 1.1183 - mse_loss: 0.6465 - val_loss: 0.9052 - val_diagonal_covariance_loss: 0.7966 - val_mse_loss: 0.5845\n",
      "Epoch 39/100\n",
      "2/2 [==============================] - 2s 899ms/step - loss: 1.5079 - diagonal_covariance_loss: 1.3993 - mse_loss: 0.6588 - val_loss: 0.9810 - val_diagonal_covariance_loss: 0.8725 - val_mse_loss: 0.6224\n",
      "Epoch 40/100\n",
      "2/2 [==============================] - 3s 2s/step - loss: -0.3301 - diagonal_covariance_loss: -0.4385 - mse_loss: 0.3931 - val_loss: 0.6568 - val_diagonal_covariance_loss: 0.5485 - val_mse_loss: 0.5472\n",
      "Epoch 41/100\n",
      "2/2 [==============================] - 2s 895ms/step - loss: 1.3270 - diagonal_covariance_loss: 1.2187 - mse_loss: 0.7067 - val_loss: 5.3997 - val_diagonal_covariance_loss: 5.2914 - val_mse_loss: 0.5852\n",
      "Epoch 42/100\n",
      "2/2 [==============================] - 3s 2s/step - loss: 1.0145 - diagonal_covariance_loss: 0.9063 - mse_loss: 0.5082 - val_loss: 0.3653 - val_diagonal_covariance_loss: 0.2572 - val_mse_loss: 0.5555\n",
      "Epoch 43/100\n",
      "2/2 [==============================] - 2s 914ms/step - loss: 1.5669 - diagonal_covariance_loss: 1.4587 - mse_loss: 0.6662 - val_loss: 0.4593 - val_diagonal_covariance_loss: 0.3512 - val_mse_loss: 0.5426\n",
      "Epoch 44/100\n",
      "2/2 [==============================] - 3s 2s/step - loss: 0.5215 - diagonal_covariance_loss: 0.4134 - mse_loss: 0.5496 - val_loss: 0.2375 - val_diagonal_covariance_loss: 0.1295 - val_mse_loss: 0.5309\n",
      "Epoch 45/100\n",
      "2/2 [==============================] - 3s 2s/step - loss: 0.4609 - diagonal_covariance_loss: 0.3529 - mse_loss: 0.5314 - val_loss: 0.2246 - val_diagonal_covariance_loss: 0.1166 - val_mse_loss: 0.5513\n",
      "Epoch 46/100\n",
      "2/2 [==============================] - 2s 942ms/step - loss: 0.5253 - diagonal_covariance_loss: 0.4174 - mse_loss: 0.5773 - val_loss: 0.3165 - val_diagonal_covariance_loss: 0.2086 - val_mse_loss: 0.5360\n",
      "Epoch 47/100\n",
      "2/2 [==============================] - 3s 2s/step - loss: 0.6367 - diagonal_covariance_loss: 0.5289 - mse_loss: 0.5764 - val_loss: 8.0271e-04 - val_diagonal_covariance_loss: -0.1070 - val_mse_loss: 0.5030\n",
      "Epoch 48/100\n",
      "2/2 [==============================] - 2s 902ms/step - loss: 0.4277 - diagonal_covariance_loss: 0.3199 - mse_loss: 0.5173 - val_loss: 0.2880 - val_diagonal_covariance_loss: 0.1803 - val_mse_loss: 0.5130\n",
      "Epoch 49/100\n",
      "2/2 [==============================] - 2s 899ms/step - loss: -0.1367 - diagonal_covariance_loss: -0.2444 - mse_loss: 0.5036 - val_loss: 0.2083 - val_diagonal_covariance_loss: 0.1007 - val_mse_loss: 0.5026\n",
      "Epoch 50/100\n",
      "2/2 [==============================] - 2s 906ms/step - loss: -0.0130 - diagonal_covariance_loss: -0.1206 - mse_loss: 0.5092 - val_loss: 0.2968 - val_diagonal_covariance_loss: 0.1892 - val_mse_loss: 0.5338\n",
      "Epoch 51/100\n",
      "2/2 [==============================] - 3s 2s/step - loss: 0.5390 - diagonal_covariance_loss: 0.4315 - mse_loss: 0.5518 - val_loss: -0.3380 - val_diagonal_covariance_loss: -0.4455 - val_mse_loss: 0.5039\n",
      "Epoch 52/100\n",
      "2/2 [==============================] - 2s 942ms/step - loss: 0.6963 - diagonal_covariance_loss: 0.5889 - mse_loss: 0.5528 - val_loss: -0.3212 - val_diagonal_covariance_loss: -0.4285 - val_mse_loss: 0.4989\n",
      "Epoch 53/100\n",
      "2/2 [==============================] - 3s 2s/step - loss: -0.9017 - diagonal_covariance_loss: -1.0090 - mse_loss: 0.4549 - val_loss: -0.6901 - val_diagonal_covariance_loss: -0.7974 - val_mse_loss: 0.4632\n",
      "Epoch 54/100\n",
      "2/2 [==============================] - 3s 2s/step - loss: -0.6997 - diagonal_covariance_loss: -0.8070 - mse_loss: 0.5257 - val_loss: -0.7193 - val_diagonal_covariance_loss: -0.8265 - val_mse_loss: 0.4866\n",
      "Epoch 55/100\n",
      "2/2 [==============================] - 3s 2s/step - loss: -0.4538 - diagonal_covariance_loss: -0.5610 - mse_loss: 0.4677 - val_loss: -0.8647 - val_diagonal_covariance_loss: -0.9719 - val_mse_loss: 0.4751\n",
      "Epoch 56/100\n",
      "2/2 [==============================] - 2s 913ms/step - loss: -0.7549 - diagonal_covariance_loss: -0.8620 - mse_loss: 0.4904 - val_loss: -0.4926 - val_diagonal_covariance_loss: -0.5997 - val_mse_loss: 0.4802\n",
      "Epoch 57/100\n",
      "2/2 [==============================] - 2s 906ms/step - loss: -1.0594 - diagonal_covariance_loss: -1.1665 - mse_loss: 0.4213 - val_loss: -0.7796 - val_diagonal_covariance_loss: -0.8866 - val_mse_loss: 0.4555\n",
      "Epoch 58/100\n",
      "2/2 [==============================] - 3s 2s/step - loss: -0.7936 - diagonal_covariance_loss: -0.9006 - mse_loss: 0.4737 - val_loss: -0.9873 - val_diagonal_covariance_loss: -1.0942 - val_mse_loss: 0.4635\n",
      "Epoch 59/100\n",
      "2/2 [==============================] - 2s 905ms/step - loss: 0.2332 - diagonal_covariance_loss: 0.1263 - mse_loss: 0.5570 - val_loss: -0.8823 - val_diagonal_covariance_loss: -0.9891 - val_mse_loss: 0.4667\n",
      "Epoch 60/100\n",
      "2/2 [==============================] - 3s 2s/step - loss: -1.4930 - diagonal_covariance_loss: -1.5998 - mse_loss: 0.3726 - val_loss: -1.0758 - val_diagonal_covariance_loss: -1.1825 - val_mse_loss: 0.4341\n",
      "Epoch 61/100\n",
      "2/2 [==============================] - 2s 910ms/step - loss: 0.1377 - diagonal_covariance_loss: 0.0310 - mse_loss: 0.5560 - val_loss: -0.6759 - val_diagonal_covariance_loss: -0.7826 - val_mse_loss: 0.4476\n",
      "Epoch 62/100\n",
      "2/2 [==============================] - 2s 915ms/step - loss: -1.0478 - diagonal_covariance_loss: -1.1544 - mse_loss: 0.4263 - val_loss: -0.9193 - val_diagonal_covariance_loss: -1.0259 - val_mse_loss: 0.4332\n",
      "Epoch 63/100\n",
      "2/2 [==============================] - 2s 941ms/step - loss: 0.9990 - diagonal_covariance_loss: 0.8925 - mse_loss: 0.5143 - val_loss: 0.4347 - val_diagonal_covariance_loss: 0.3282 - val_mse_loss: 0.5376\n",
      "Epoch 64/100\n",
      "2/2 [==============================] - 2s 908ms/step - loss: -0.6617 - diagonal_covariance_loss: -0.7681 - mse_loss: 0.4468 - val_loss: 0.7006 - val_diagonal_covariance_loss: 0.5942 - val_mse_loss: 0.5761\n",
      "Epoch 65/100\n",
      "2/2 [==============================] - 2s 914ms/step - loss: 0.2178 - diagonal_covariance_loss: 0.1113 - mse_loss: 0.5182 - val_loss: 1.3962 - val_diagonal_covariance_loss: 1.2898 - val_mse_loss: 0.6366\n",
      "Epoch 66/100\n",
      "2/2 [==============================] - 2s 923ms/step - loss: 2.0036 - diagonal_covariance_loss: 1.8973 - mse_loss: 0.7133 - val_loss: 0.7760 - val_diagonal_covariance_loss: 0.6697 - val_mse_loss: 0.6140\n",
      "Epoch 67/100\n",
      "2/2 [==============================] - 2s 925ms/step - loss: -0.7573 - diagonal_covariance_loss: -0.8636 - mse_loss: 0.4959 - val_loss: 0.6119 - val_diagonal_covariance_loss: 0.5057 - val_mse_loss: 0.6055\n",
      "Epoch 68/100\n",
      "2/2 [==============================] - 2s 931ms/step - loss: -0.0788 - diagonal_covariance_loss: -0.1850 - mse_loss: 0.4521 - val_loss: -0.9242 - val_diagonal_covariance_loss: -1.0303 - val_mse_loss: 0.4365\n",
      "Epoch 69/100\n",
      "2/2 [==============================] - 2s 970ms/step - loss: 0.4658 - diagonal_covariance_loss: 0.3597 - mse_loss: 0.6326 - val_loss: -0.9013 - val_diagonal_covariance_loss: -1.0074 - val_mse_loss: 0.4709\n",
      "Epoch 70/100\n",
      "2/2 [==============================] - 2s 915ms/step - loss: -0.8442 - diagonal_covariance_loss: -0.9503 - mse_loss: 0.4698 - val_loss: -0.7807 - val_diagonal_covariance_loss: -0.8867 - val_mse_loss: 0.4770\n",
      "Epoch 71/100\n",
      "2/2 [==============================] - 2s 911ms/step - loss: -1.3443 - diagonal_covariance_loss: -1.4504 - mse_loss: 0.3793 - val_loss: -0.0020 - val_diagonal_covariance_loss: -0.1080 - val_mse_loss: 0.4759\n",
      "Epoch 72/100\n",
      "2/2 [==============================] - 2s 918ms/step - loss: 0.1305 - diagonal_covariance_loss: 0.0245 - mse_loss: 0.5313 - val_loss: -0.0452 - val_diagonal_covariance_loss: -0.1511 - val_mse_loss: 0.4248\n",
      "Epoch 73/100\n",
      "2/2 [==============================] - 3s 2s/step - loss: -0.8142 - diagonal_covariance_loss: -0.9201 - mse_loss: 0.3474 - val_loss: -1.4156 - val_diagonal_covariance_loss: -1.5215 - val_mse_loss: 0.3984\n",
      "Epoch 74/100\n",
      "2/2 [==============================] - 2s 907ms/step - loss: -1.0453 - diagonal_covariance_loss: -1.1512 - mse_loss: 0.4276 - val_loss: -1.1632 - val_diagonal_covariance_loss: -1.2690 - val_mse_loss: 0.4195\n",
      "Epoch 75/100\n",
      "2/2 [==============================] - 2s 905ms/step - loss: 0.1095 - diagonal_covariance_loss: 0.0037 - mse_loss: 0.5172 - val_loss: -0.0676 - val_diagonal_covariance_loss: -0.1733 - val_mse_loss: 0.4533\n",
      "Epoch 76/100\n",
      "2/2 [==============================] - 2s 945ms/step - loss: -1.4269 - diagonal_covariance_loss: -1.5326 - mse_loss: 0.3865 - val_loss: -0.6534 - val_diagonal_covariance_loss: -0.7591 - val_mse_loss: 0.4597\n",
      "Epoch 77/100\n",
      "2/2 [==============================] - 2s 915ms/step - loss: -0.7209 - diagonal_covariance_loss: -0.8265 - mse_loss: 0.4700 - val_loss: -0.8665 - val_diagonal_covariance_loss: -0.9721 - val_mse_loss: 0.4553\n",
      "Epoch 78/100\n",
      "2/2 [==============================] - 2s 891ms/step - loss: -0.7443 - diagonal_covariance_loss: -0.8499 - mse_loss: 0.4658 - val_loss: -0.8841 - val_diagonal_covariance_loss: -0.9896 - val_mse_loss: 0.4457\n",
      "Epoch 79/100\n",
      "2/2 [==============================] - 2s 911ms/step - loss: -1.6138 - diagonal_covariance_loss: -1.7194 - mse_loss: 0.3647 - val_loss: -1.0068 - val_diagonal_covariance_loss: -1.1123 - val_mse_loss: 0.4231\n",
      "Epoch 80/100\n",
      "2/2 [==============================] - 2s 904ms/step - loss: -0.6898 - diagonal_covariance_loss: -0.7953 - mse_loss: 0.5239 - val_loss: -1.1583 - val_diagonal_covariance_loss: -1.2638 - val_mse_loss: 0.3973\n",
      "Epoch 81/100\n",
      "2/2 [==============================] - 2s 901ms/step - loss: -0.8709 - diagonal_covariance_loss: -0.9763 - mse_loss: 0.4131 - val_loss: -0.7027 - val_diagonal_covariance_loss: -0.8081 - val_mse_loss: 0.4304\n",
      "Epoch 82/100\n",
      "2/2 [==============================] - 2s 923ms/step - loss: -0.2455 - diagonal_covariance_loss: -0.3508 - mse_loss: 0.5034 - val_loss: -0.4524 - val_diagonal_covariance_loss: -0.5577 - val_mse_loss: 0.4618\n",
      "Epoch 83/100\n",
      "2/2 [==============================] - 2s 905ms/step - loss: -0.0087 - diagonal_covariance_loss: -0.1140 - mse_loss: 0.4884 - val_loss: -0.0585 - val_diagonal_covariance_loss: -0.1638 - val_mse_loss: 0.4867\n",
      "Epoch 84/100\n",
      "2/2 [==============================] - 2s 909ms/step - loss: -0.5523 - diagonal_covariance_loss: -0.6575 - mse_loss: 0.4500 - val_loss: -0.4804 - val_diagonal_covariance_loss: -0.5856 - val_mse_loss: 0.4273\n",
      "Epoch 85/100\n",
      "2/2 [==============================] - 2s 918ms/step - loss: -1.1139 - diagonal_covariance_loss: -1.2191 - mse_loss: 0.3779 - val_loss: -1.0976 - val_diagonal_covariance_loss: -1.2027 - val_mse_loss: 0.4102\n",
      "Epoch 86/100\n",
      "2/2 [==============================] - 2s 923ms/step - loss: -0.9439 - diagonal_covariance_loss: -1.0490 - mse_loss: 0.4240 - val_loss: -1.3856 - val_diagonal_covariance_loss: -1.4907 - val_mse_loss: 0.4231\n",
      "Epoch 87/100\n",
      "2/2 [==============================] - 3s 2s/step - loss: -1.2369 - diagonal_covariance_loss: -1.3420 - mse_loss: 0.4539 - val_loss: -2.5811 - val_diagonal_covariance_loss: -2.6862 - val_mse_loss: 0.3327\n",
      "Epoch 88/100\n",
      "2/2 [==============================] - 2s 975ms/step - loss: -1.9622 - diagonal_covariance_loss: -2.0672 - mse_loss: 0.3792 - val_loss: -1.4381 - val_diagonal_covariance_loss: -1.5431 - val_mse_loss: 0.3663\n",
      "Epoch 89/100\n",
      "2/2 [==============================] - 2s 954ms/step - loss: -2.1042 - diagonal_covariance_loss: -2.2092 - mse_loss: 0.3803 - val_loss: -1.9063 - val_diagonal_covariance_loss: -2.0112 - val_mse_loss: 0.3665\n",
      "Epoch 90/100\n",
      "2/2 [==============================] - 2s 938ms/step - loss: -1.3542 - diagonal_covariance_loss: -1.4591 - mse_loss: 0.4129 - val_loss: -0.0180 - val_diagonal_covariance_loss: -0.1228 - val_mse_loss: 0.3715\n",
      "Epoch 91/100\n",
      "2/2 [==============================] - 2s 930ms/step - loss: -0.4810 - diagonal_covariance_loss: -0.5859 - mse_loss: 0.3848 - val_loss: -1.2761 - val_diagonal_covariance_loss: -1.3809 - val_mse_loss: 0.4003\n",
      "Epoch 92/100\n",
      "2/2 [==============================] - 2s 908ms/step - loss: -1.1668 - diagonal_covariance_loss: -1.2715 - mse_loss: 0.4641 - val_loss: -0.6897 - val_diagonal_covariance_loss: -0.7944 - val_mse_loss: 0.4602\n",
      "Epoch 93/100\n",
      "2/2 [==============================] - 2s 930ms/step - loss: -1.4775 - diagonal_covariance_loss: -1.5822 - mse_loss: 0.3341 - val_loss: -1.4023 - val_diagonal_covariance_loss: -1.5070 - val_mse_loss: 0.3989\n",
      "Epoch 94/100\n",
      "2/2 [==============================] - 2s 919ms/step - loss: -1.4100 - diagonal_covariance_loss: -1.5146 - mse_loss: 0.4101 - val_loss: -1.4812 - val_diagonal_covariance_loss: -1.5858 - val_mse_loss: 0.4047\n",
      "Epoch 95/100\n",
      "2/2 [==============================] - 2s 910ms/step - loss: -1.0350 - diagonal_covariance_loss: -1.1396 - mse_loss: 0.4470 - val_loss: -0.7034 - val_diagonal_covariance_loss: -0.8079 - val_mse_loss: 0.4199\n",
      "Epoch 96/100\n",
      "2/2 [==============================] - 2s 919ms/step - loss: -0.7364 - diagonal_covariance_loss: -0.8409 - mse_loss: 0.3993 - val_loss: -1.6746 - val_diagonal_covariance_loss: -1.7791 - val_mse_loss: 0.3782\n",
      "Epoch 97/100\n",
      "2/2 [==============================] - 2s 923ms/step - loss: -2.5770 - diagonal_covariance_loss: -2.6815 - mse_loss: 0.3398 - val_loss: -1.3021 - val_diagonal_covariance_loss: -1.4065 - val_mse_loss: 0.3946\n",
      "Epoch 98/100\n",
      "2/2 [==============================] - 2s 910ms/step - loss: -2.1865 - diagonal_covariance_loss: -2.2910 - mse_loss: 0.3568 - val_loss: -1.0917 - val_diagonal_covariance_loss: -1.1960 - val_mse_loss: 0.3851\n",
      "Epoch 99/100\n",
      "2/2 [==============================] - 2s 917ms/step - loss: -1.5466 - diagonal_covariance_loss: -1.6510 - mse_loss: 0.4398 - val_loss: -1.3279 - val_diagonal_covariance_loss: -1.4322 - val_mse_loss: 0.3307\n",
      "Epoch 100/100\n",
      "2/2 [==============================] - 2s 899ms/step - loss: -1.9310 - diagonal_covariance_loss: -2.0353 - mse_loss: 0.3607 - val_loss: -1.8603 - val_diagonal_covariance_loss: -1.9645 - val_mse_loss: 0.3714\n"
     ]
    }
   ],
   "source": [
    "# This is equivalent to 'python -m model_trainer diag_json_path' in the terminal where diag_json_path is the path.\n",
    "sys.argv = ['model_trainer',diag_json_path]\n",
    "model_trainer.main()"
   ]
  },
  {
   "cell_type": "markdown",
   "metadata": {},
   "source": [
    "At the end of each epoch we get the loss (which includes the concrete dropout regularization penalty) and the diagonal/full/gmm loss term (essentially the measure of how well our pdf is doing at capturing the data) on both the training and validation sets. "
   ]
  },
  {
   "cell_type": "code",
   "execution_count": null,
   "metadata": {},
   "outputs": [],
   "source": [
    "# Clean up the files that were created by this notebook.\n",
    "test_data_path = os.getcwd()[:-5]+'test/test_data/'\n",
    "\n",
    "os.remove(test_data_path+'new_metadata.csv')\n",
    "os.remove(test_data_path+'norms.csv')\n",
    "os.remove(test_data_path+'tf_record_test')\n",
    "os.remove(test_data_path+'tf_record_test_val')\n",
    "os.remove('test_model.h5')\n",
    "shutil.rmtree('test_logs')\n",
    "os.remove('diag.json')"
   ]
  },
  {
   "cell_type": "markdown",
   "metadata": {},
   "source": [
    "If we want to fit a different type of model, all we have to do is change the config specification for the bnn type or dropout rate."
   ]
  }
 ],
 "metadata": {
  "kernelspec": {
   "display_name": "Python 3 (ipykernel)",
   "language": "python",
   "name": "python3"
  },
  "language_info": {
   "codemirror_mode": {
    "name": "ipython",
    "version": 3
   },
   "file_extension": ".py",
   "mimetype": "text/x-python",
   "name": "python",
   "nbconvert_exporter": "python",
   "pygments_lexer": "ipython3",
   "version": "3.11.5"
  }
 },
 "nbformat": 4,
 "nbformat_minor": 4
}
